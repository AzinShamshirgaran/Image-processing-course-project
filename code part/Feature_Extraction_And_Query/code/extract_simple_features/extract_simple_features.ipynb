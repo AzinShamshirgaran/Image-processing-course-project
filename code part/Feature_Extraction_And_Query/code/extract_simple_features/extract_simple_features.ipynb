{
 "cells": [
  {
   "cell_type": "code",
   "execution_count": 65,
   "metadata": {},
   "outputs": [],
   "source": [
    "import numpy as np\n",
    "import pandas as pd\n",
    "import matplotlib.pyplot as plt"
   ]
  },
  {
   "cell_type": "code",
   "execution_count": 66,
   "metadata": {},
   "outputs": [],
   "source": [
    "# root_dir of where the data is\n",
    "root_dir = '../../data/'\n",
    "\n",
    "# Location of images.\n",
    "image_dir = root_dir + 'imags-512/'\n",
    "\n",
    "# Location of where to write features.\n",
    "feature_dir = root_dir + 'features/'\n",
    "\n",
    "# The .csv file containing the image names and classes.\n",
    "image_file = root_dir + 'image_names_classes.csv'"
   ]
  },
  {
   "cell_type": "code",
   "execution_count": 67,
   "metadata": {},
   "outputs": [],
   "source": [
    "# Number of images.\n",
    "n_images = 218\n",
    "\n",
    "# Read image names and classes .csv file.\n",
    "image_names_classes = pd.read_csv(image_file, header=None )"
   ]
  },
  {
   "cell_type": "code",
   "execution_count": 68,
   "metadata": {},
   "outputs": [],
   "source": [
    "# Simple features have dimension 2\n",
    "fdim = 2\n",
    "\n",
    "features = np.zeros((n_images, fdim))"
   ]
  },
  {
   "cell_type": "code",
   "execution_count": 69,
   "metadata": {},
   "outputs": [],
   "source": [
    "# Extract features for each image.\n",
    "for i in range(n_images):\n",
    "    \n",
    "    # Read the image.\n",
    "    filename = image_dir + image_names_classes[0][i]\n",
    "    im = plt.imread(filename)\n",
    "    \n",
    "    # It turns out that the spectrogram images saved using plt.imsave have four channels\n",
    "    # RGBA. The RGB channels are each equal to the grayscale value so we can use any of them.\n",
    "        \n",
    "    # Compute the mean of the grayscale image as the first feature dimension.\n",
    "    features[i,0] = np.mean(im[:,:,0])\n",
    "    \n",
    "    # Compute the standard deviation of the grayscale image as the second feature dimension.\n",
    "    features[i,1] = np.std(im[:,:,0])\n",
    "    \n",
    "    # Compute the median of the grayscale image as the third feature dimension.\n",
    "    #features[i,1] = np.median(im[:,:,0])\n",
    "    \n",
    "    # Compute the variance of the grayscale image as the fourth feature dimension.\n",
    "    #features[i,1] = np.var(im[:,:,0])"
   ]
  },
  {
   "cell_type": "code",
   "execution_count": 70,
   "metadata": {},
   "outputs": [],
   "source": [
    "# Save the features as a .csv file.\n",
    "#feature_filename = feature_dir + 'mean_stdev_median_var.txt'\n",
    "feature_filename = feature_dir + 'mean_stdev_512.txt'\n",
    "#feature_filename = feature_dir + 'stdev.txt'\n",
    "\n",
    "np.savetxt(feature_filename, features, delimiter=',')"
   ]
  },
  {
   "cell_type": "code",
   "execution_count": null,
   "metadata": {},
   "outputs": [],
   "source": []
  }
 ],
 "metadata": {
  "kernelspec": {
   "display_name": "Python 3",
   "language": "python",
   "name": "python3"
  },
  "language_info": {
   "codemirror_mode": {
    "name": "ipython",
    "version": 3
   },
   "file_extension": ".py",
   "mimetype": "text/x-python",
   "name": "python",
   "nbconvert_exporter": "python",
   "pygments_lexer": "ipython3",
   "version": "3.8.5"
  }
 },
 "nbformat": 4,
 "nbformat_minor": 4
}
