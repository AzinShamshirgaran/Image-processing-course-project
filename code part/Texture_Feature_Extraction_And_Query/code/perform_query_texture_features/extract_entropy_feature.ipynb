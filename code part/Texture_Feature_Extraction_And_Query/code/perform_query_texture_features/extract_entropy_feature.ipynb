{
 "cells": [
  {
   "cell_type": "code",
   "execution_count": 26,
   "id": "e13bc3e6",
   "metadata": {},
   "outputs": [],
   "source": [
    "import numpy as np\n",
    "import pandas as pd\n",
    "import matplotlib.pyplot as plt\n",
    "from scipy import ndimage as nd\n",
    "from scipy import signal as sg\n",
    "from skimage import data\n",
    "from skimage.util import img_as_float\n",
    "from skimage.filters import gabor_kernel\n",
    "import skimage.measure\n",
    "import statistics as st"
   ]
  },
  {
   "cell_type": "code",
   "execution_count": 27,
   "id": "fd892e5d",
   "metadata": {},
   "outputs": [],
   "source": [
    "# root_dir of where the data is\n",
    "root_dir = '../../data/'\n",
    "\n",
    "# Location of images.\n",
    "image_dir = root_dir + 'images/'\n",
    "\n",
    "# Location of where to write features.\n",
    "feature_dir = root_dir + 'features/'\n",
    "\n",
    "# The .csv file containing the image names and classes.\n",
    "image_file = root_dir + 'image_names_classes.csv'"
   ]
  },
  {
   "cell_type": "code",
   "execution_count": 28,
   "id": "f62fbef7",
   "metadata": {},
   "outputs": [],
   "source": [
    "# Number of images.\n",
    "n_images = 218\n",
    "\n",
    "# Read image names and classes .csv file.\n",
    "image_names_classes = pd.read_csv(image_file, header=None )"
   ]
  },
  {
   "cell_type": "code",
   "execution_count": 29,
   "id": "5c694f72",
   "metadata": {},
   "outputs": [],
   "source": [
    "features=[]\n",
    "for i in range(n_images):\n",
    "    filename = image_dir + image_names_classes[0][i]    \n",
    "    img = plt.imread(filename)\n",
    "    entropy = skimage.measure.shannon_entropy(img)\n",
    "    features.append(entropy)"
   ]
  },
  {
   "cell_type": "code",
   "execution_count": 30,
   "id": "ee13d68f",
   "metadata": {},
   "outputs": [],
   "source": [
    "# Create a dictionary for the classes \n",
    "dic_classes={}\n",
    "dic_classes[1]=26\n",
    "dic_classes[2]=25\n",
    "dic_classes[3]=37\n",
    "dic_classes[4]=58\n",
    "dic_classes[5]=72"
   ]
  },
  {
   "cell_type": "code",
   "execution_count": 31,
   "id": "8e535b12",
   "metadata": {},
   "outputs": [],
   "source": [
    "# Compute recall and precision\n",
    "\n",
    "\n",
    "\n",
    "precision_dict={}\n",
    "recal_dict={}\n",
    "\n",
    "precision_mean_list=[]\n",
    "recall_mean_list=[]\n",
    "\n",
    "for query_image in range(n_images):\n",
    "    distances = np.zeros(n_images)\n",
    "    precision_dict[query_image]=np.zeros(n_images)\n",
    "    recal_dict[query_image]=np.zeros(n_images)\n",
    "    for i in range(n_images):\n",
    "        distances[i] = 0\n",
    "        \n",
    "            #distances[i] = distances[i] + ((features[query_image][j] - features[i][j])**2) #L2 distance\n",
    "            #distances[i] = distances[i] + abs((features[query_image][j] - features[i][j])) #L1 distance\n",
    "        distances[i] = distances[i] + abs((features[query_image] - features[i])) #stdv distance\n",
    "        #distances[i] = distances[i] ** 0.5 #L2 distance\n",
    "    sorted_index = np.argsort(distances)\n",
    "    #print(sorted_index)\n",
    "    count = 0\n",
    "    total_no_images=0\n",
    "    for s in range(len(sorted_index)):\n",
    "            if image_names_classes[1][query_image] == image_names_classes[1][sorted_index[s]]:\n",
    "               count += 1\n",
    "            precision = count / (s+1)\n",
    "            precision_dict[query_image][s]=precision\n",
    "            recall = count / dic_classes[image_names_classes[1][query_image]]\n",
    "            recal_dict[query_image][s]=recall\n",
    "    "
   ]
  },
  {
   "cell_type": "code",
   "execution_count": 32,
   "id": "0181e6e7",
   "metadata": {},
   "outputs": [],
   "source": [
    "precision_dict_interpolated={}\n",
    "\n",
    "rec_ref=[0, 0.1, 0.2, 0.3, 0.4, 0.5, 0.6, 0.7, 0.8, 0.9, 1]\n",
    "\n",
    "\n",
    "for query_image in range(n_images):\n",
    "    pr_point =precision_dict[query_image]\n",
    "\n",
    "    rec_point=recal_dict[query_image]\n",
    "\n",
    "    precision_dict_interpolated[query_image]=[0] * (len(recal_dict[0]))\n",
    "    for r in range(len(rec_ref)):\n",
    "        indexs= np.where(rec_point >= rec_ref[r])\n",
    "        #print(indexs[0][0])\n",
    "        precision_dict_interpolated[query_image][r]=pr_point[indexs[0][0]]"
   ]
  },
  {
   "cell_type": "code",
   "execution_count": 33,
   "id": "9cc747e6",
   "metadata": {},
   "outputs": [
    {
     "name": "stdout",
     "output_type": "stream",
     "text": [
      "0.35879363553122995\n"
     ]
    },
    {
     "data": {
      "image/png": "[encoded data removed]",
      "text/plain": [
       "<Figure size 432x288 with 1 Axes>"
      ]
     },
     "metadata": {
      "needs_background": "light"
     },
     "output_type": "display_data"
    }
   ],
   "source": [
    "# Plot precision - recall curve\n",
    "sum_precision = [0] * (11)\n",
    "avg_precision_list = [0] * (11)\n",
    "for query_image in range(n_images):\n",
    "    for x in range(11):\n",
    "        sum_precision[x] += precision_dict_interpolated[query_image][x]\n",
    "    \n",
    "for query_image in range(11):\n",
    "    avg_precision_list[query_image]=sum_precision[query_image]/n_images\n",
    "\n",
    "print(st.mean(avg_precision_list))\n",
    "\n",
    "plt.plot(rec_ref, avg_precision_list, '--bo')\n",
    "plt.show()"
   ]
  },
  {
   "cell_type": "code",
   "execution_count": 25,
   "id": "21538c5b",
   "metadata": {},
   "outputs": [],
   "source": [
    "for i in range(n_images):\n",
    "    filename = image_dir + image_names_classes[0][i]    \n",
    "    img = plt.imread(filename)\n",
    "    marg = np.histogramdd(np.ravel(img), bins = 256)[0]/img.size\n",
    "    marg = list(filter(lambda p: p > 0, np.ravel(marg)))\n",
    "    entropy = -np.sum(np.multiply(marg, np.log10(marg)))\n",
    "    #print(entropy)"
   ]
  },
  {
   "cell_type": "code",
   "execution_count": 34,
   "id": "97071f67",
   "metadata": {},
   "outputs": [
    {
     "name": "stdout",
     "output_type": "stream",
     "text": [
      "[1.0, 0.3867304077456375, 0.33153822119899334, 0.3128689733370583, 0.30843289842688526, 0.28336219200480495, 0.27715972913925674, 0.27212612379621837, 0.26708318092452205, 0.2575299147505375, 0.24989834951961554]\n"
     ]
    }
   ],
   "source": [
    "print(avg_precision_list)"
   ]
  },
  {
   "cell_type": "code",
   "execution_count": null,
   "id": "474d1ccc",
   "metadata": {},
   "outputs": [],
   "source": []
  }
 ],
 "metadata": {
  "kernelspec": {
   "display_name": "Python 3",
   "language": "python",
   "name": "python3"
  },
  "language_info": {
   "codemirror_mode": {
    "name": "ipython",
    "version": 3
   },
   "file_extension": ".py",
   "mimetype": "text/x-python",
   "name": "python",
   "nbconvert_exporter": "python",
   "pygments_lexer": "ipython3",
   "version": "3.8.5"
  }
 },
 "nbformat": 4,
 "nbformat_minor": 5
}
