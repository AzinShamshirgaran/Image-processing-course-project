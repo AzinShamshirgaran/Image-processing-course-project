{
 "cells": [
  {
   "cell_type": "code",
   "execution_count": 184,
   "id": "6a87b8df",
   "metadata": {},
   "outputs": [],
   "source": [
    "import numpy as np\n",
    "import pandas as pd\n",
    "import matplotlib.pyplot as plt\n",
    "import statistics as st\n",
    "import math"
   ]
  },
  {
   "cell_type": "code",
   "execution_count": 185,
   "id": "0efa948d",
   "metadata": {},
   "outputs": [],
   "source": [
    "# root_dir of where the data is\n",
    "root_dir = '../../data/'\n",
    "\n",
    "# Location of images.\n",
    "image_dir = root_dir + 'imags-512/'\n",
    "\n",
    "# Location of where to read features.\n",
    "feature_dir = root_dir + 'features/'\n",
    "\n",
    "# The .csv file containing the image names and classes.\n",
    "image_file = root_dir + 'image_names_classes.csv'"
   ]
  },
  {
   "cell_type": "code",
   "execution_count": 186,
   "id": "b476cf5f",
   "metadata": {},
   "outputs": [],
   "source": [
    "# Number of images.\n",
    "n_images = 218\n",
    "\n",
    "# Read image names and classes .csv file.\n",
    "image_names_classes = pd.read_csv(image_file, header=None )"
   ]
  },
  {
   "cell_type": "code",
   "execution_count": 187,
   "id": "5b522fba",
   "metadata": {},
   "outputs": [],
   "source": [
    "# Read the features from the .csv file.\n",
    "feature_filename = feature_dir + 'Gabor_4_6_512.txt'\n",
    "features = np.genfromtxt(feature_filename, delimiter=',')\n",
    "\n",
    "# Determine feature dimension.\n",
    "fdim = np.shape(features)[1]"
   ]
  },
  {
   "cell_type": "code",
   "execution_count": 188,
   "id": "883e02f9",
   "metadata": {},
   "outputs": [],
   "source": [
    "# Create a dictionary for the classes \n",
    "dic_classes={}\n",
    "dic_classes[1]=26\n",
    "dic_classes[2]=25\n",
    "dic_classes[3]=37\n",
    "dic_classes[4]=58\n",
    "dic_classes[5]=72"
   ]
  },
  {
   "cell_type": "code",
   "execution_count": 189,
   "id": "e89b7251",
   "metadata": {},
   "outputs": [],
   "source": [
    "# Compute recall and precision\n",
    "\n",
    "\n",
    "# Compute L1, Euclidean or Minkowski distance between query feature vector and each image's feature vector.\n",
    "\n",
    "\n",
    "precision_dict={}\n",
    "recal_dict={}\n",
    "\n",
    "precision_mean_list=[]\n",
    "recall_mean_list=[]\n",
    "\n",
    "for query_image in range(n_images):\n",
    "    distances = np.zeros(n_images)\n",
    "    precision_dict[query_image]=np.zeros(n_images)\n",
    "    recal_dict[query_image]=np.zeros(n_images)\n",
    "    for i in range(n_images):\n",
    "        distances[i] = 0\n",
    "        for j in range(fdim):\n",
    "            #distances[i] = distances[i] + ((features[query_image][j] - features[i][j])**2) #L2 distance\n",
    "            distances[i] = distances[i] + (abs(features[query_image][j] - features[i][j]))**3 #Minkowski distance\n",
    "            #distances[i] = distances[i] + abs((features[query_image][j] - features[i][j])) #L1 distance\n",
    "        #distances[i] = distances[i] ** 0.5 #L2 distance\n",
    "        distances[i] = distances[i] ** (1/3) #Minkowski distance\n",
    "    sorted_index = np.argsort(distances)\n",
    "    count = 0\n",
    "  \n",
    "    for s in range(len(sorted_index)):\n",
    "            if image_names_classes[1][query_image] == image_names_classes[1][sorted_index[s]]:\n",
    "               count += 1\n",
    "            precision = count / (s+1)\n",
    "            precision_dict[query_image][s]=precision\n",
    "            recall = count / dic_classes[image_names_classes[1][query_image]]\n",
    "            recal_dict[query_image][s]=recall\n",
    "\n",
    "\n",
    "\n"
   ]
  },
  {
   "cell_type": "code",
   "execution_count": 190,
   "id": "113ad4dd",
   "metadata": {},
   "outputs": [],
   "source": [
    "precision_dict_interpolated={}\n",
    "\n",
    "rec_ref=[0, 0.1, 0.2, 0.3, 0.4, 0.5, 0.6, 0.7, 0.8, 0.9, 1]\n",
    "\n",
    "\n",
    "for query_image in range(n_images):\n",
    "    pr_point =precision_dict[query_image]\n",
    "\n",
    "    rec_point=recal_dict[query_image]\n",
    "\n",
    "    precision_dict_interpolated[query_image]=[0] * (len(recal_dict[0]))\n",
    "    for r in range(len(rec_ref)):\n",
    "        indexs= np.where(rec_point >= rec_ref[r])\n",
    "        precision_dict_interpolated[query_image][r]=pr_point[indexs[0][0]]"
   ]
  },
  {
   "cell_type": "code",
   "execution_count": 191,
   "id": "59562497",
   "metadata": {},
   "outputs": [
    {
     "name": "stdout",
     "output_type": "stream",
     "text": [
      "0.6533166411098641\n"
     ]
    },
    {
     "data": {
      "image/png": "[encoded data removed]",
      "text/plain": [
       "<Figure size 432x288 with 1 Axes>"
      ]
     },
     "metadata": {
      "needs_background": "light"
     },
     "output_type": "display_data"
    }
   ],
   "source": [
    "# Plot precision - recall curve\n",
    "sum_precision = [0] * (11)\n",
    "avg_precision_list = [0] * (11)\n",
    "for query_image in range(n_images):\n",
    "    for x in range(11):\n",
    "        sum_precision[x] += precision_dict_interpolated[query_image][x]\n",
    "    \n",
    "for query_image in range(11):\n",
    "    avg_precision_list[query_image]=sum_precision[query_image]/n_images\n",
    "\n",
    "print(st.mean(avg_precision_list))\n",
    "\n",
    "plt.plot(rec_ref, avg_precision_list, '--bo')\n",
    "plt.show()"
   ]
  },
  {
   "cell_type": "code",
   "execution_count": 162,
   "id": "0420b327",
   "metadata": {},
   "outputs": [
    {
     "name": "stdout",
     "output_type": "stream",
     "text": [
      "[1.0, 0.9055441805472921, 0.7963519847422729, 0.7370745013972108, 0.6847242750906735, 0.6526529592440835, 0.6173292515891335, 0.571071716806955, 0.48748406786354453, 0.41400685489046873, 0.3356583040734155]\n"
     ]
    }
   ],
   "source": [
    "print(avg_precision_list)"
   ]
  },
  {
   "cell_type": "code",
   "execution_count": null,
   "id": "2709226a",
   "metadata": {},
   "outputs": [],
   "source": []
  },
  {
   "cell_type": "code",
   "execution_count": null,
   "id": "4e63b21d",
   "metadata": {},
   "outputs": [],
   "source": []
  }
 ],
 "metadata": {
  "kernelspec": {
   "display_name": "Python 3",
   "language": "python",
   "name": "python3"
  },
  "language_info": {
   "codemirror_mode": {
    "name": "ipython",
    "version": 3
   },
   "file_extension": ".py",
   "mimetype": "text/x-python",
   "name": "python",
   "nbconvert_exporter": "python",
   "pygments_lexer": "ipython3",
   "version": "3.8.5"
  }
 },
 "nbformat": 4,
 "nbformat_minor": 5
}
