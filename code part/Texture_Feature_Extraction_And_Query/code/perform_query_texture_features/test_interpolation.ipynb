{
 "cells": [
  {
   "cell_type": "code",
   "execution_count": 14,
   "id": "ac239756",
   "metadata": {},
   "outputs": [
    {
     "name": "stdout",
     "output_type": "stream",
     "text": [
      "[4, 4, 8, 8, 8, 3, 3, 2, 2, 2]\n"
     ]
    }
   ],
   "source": [
    "import numpy as np\n",
    "\n",
    "pr_point =[4,8,2,3,2]\n",
    "\n",
    "rec_point=[0.25,0.5,0.5,0.75,1]\n",
    "pr_ref=[3,2,4,5,2,1,5,2,4,2]\n",
    "rec_ref=[0.1,0.2,0.3,0.4,0.5,0.6,0.7,0.8,0.9,1]\n",
    "pr_point_corrected=[0] * (10)\n",
    "\n",
    "ind=0\n",
    "for r in range(len(rec_point)):\n",
    "    for j in range(ind, len(rec_ref)):\n",
    "        if rec_ref[j] <= rec_point[r]:\n",
    "            ind += 1\n",
    "            pr_point_corrected[ind-1] = pr_point[r]\n",
    "print(pr_point_corrected )\n",
    "    \n",
    "    \n"
   ]
  },
  {
   "cell_type": "code",
   "execution_count": 11,
   "id": "c28a63a9",
   "metadata": {},
   "outputs": [
    {
     "data": {
      "text/plain": [
       "(array([3, 5, 6]),)"
      ]
     },
     "execution_count": 11,
     "metadata": {},
     "output_type": "execute_result"
    }
   ],
   "source": [
    "x= np.array([2,3,1,8,4,9,10])\n",
    "np.where(x>4)"
   ]
  },
  {
   "cell_type": "code",
   "execution_count": 19,
   "id": "046b7bf4",
   "metadata": {},
   "outputs": [
    {
     "name": "stdout",
     "output_type": "stream",
     "text": [
      "[0 1]\n",
      "[0 1 2 3 4]\n",
      "[0 1 2 3 4]\n",
      "[0 1 2 3 4 5 6]\n",
      "[0 1 2 3 4 5 6 7 8 9]\n",
      "[2, 2, 2, 2, 2, 2, 2, 2, 2, 2]\n"
     ]
    }
   ],
   "source": [
    "pr_point =np.array([4,8,2,3,2])\n",
    "\n",
    "rec_point=np.array([0.25,0.5,0.5,0.75,1])\n",
    "pr_ref=np.array([3,2,4,5,2,1,5,2,4,2])\n",
    "rec_ref=np.array([0.1,0.2,0.3,0.4,0.5,0.6,0.7,0.8,0.9,1])\n",
    "pr_point_corrected=[0] * (10)\n",
    "\n",
    "tot=0\n",
    "for r in range(len(rec_point)):\n",
    "    ind=np.where(rec_ref <= rec_point[r])\n",
    "    tot=ind[0][]\n",
    "    print(ind[0])\n",
    "    for x in ind[0]:\n",
    "        pr_point_corrected[x]=pr_point[r]\n",
    "print(pr_point_corrected )    "
   ]
  },
  {
   "cell_type": "code",
   "execution_count": null,
   "id": "115fca28",
   "metadata": {},
   "outputs": [],
   "source": []
  }
 ],
 "metadata": {
  "kernelspec": {
   "display_name": "Python 3",
   "language": "python",
   "name": "python3"
  },
  "language_info": {
   "codemirror_mode": {
    "name": "ipython",
    "version": 3
   },
   "file_extension": ".py",
   "mimetype": "text/x-python",
   "name": "python",
   "nbconvert_exporter": "python",
   "pygments_lexer": "ipython3",
   "version": "3.8.5"
  }
 },
 "nbformat": 4,
 "nbformat_minor": 5
}
