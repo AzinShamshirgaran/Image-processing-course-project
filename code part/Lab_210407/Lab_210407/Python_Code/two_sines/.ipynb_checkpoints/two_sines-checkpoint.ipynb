{
 "cells": [
  {
   "cell_type": "code",
   "execution_count": null,
   "metadata": {},
   "outputs": [],
   "source": [
    "import numpy as np\n",
    "import IPython.display as ipd\n",
    "import matplotlib.pyplot as plt"
   ]
  },
  {
   "cell_type": "code",
   "execution_count": null,
   "metadata": {},
   "outputs": [],
   "source": [
    "length_seconds = 4;\n",
    "\n",
    "# Sample rate (samples per second).\n",
    "sample_rate = 48000;\n",
    "length = length_seconds * sample_rate;\n",
    "\n",
    "# The frequencies of our two sine waves. Should be able to hear 1000 to 10000 Hz.\n",
    "frequency1 = 1000;\n",
    "frequency2 = 5000;"
   ]
  },
  {
   "cell_type": "code",
   "execution_count": null,
   "metadata": {},
   "outputs": [],
   "source": [
    "# Create array of time samples.\n",
    "t = np.linspace(0, length_seconds, length, endpoint=False)\n",
    "\n",
    "# Add the sine waves.\n",
    "x = np.sin(2 * np.pi * frequency1 * t)\n",
    "x = x + np.sin(2 * np.pi * frequency2 * t)"
   ]
  },
  {
   "cell_type": "code",
   "execution_count": null,
   "metadata": {},
   "outputs": [],
   "source": [
    "# Play the clip.\n",
    "ipd.Audio(x, rate=sample_rate)"
   ]
  },
  {
   "cell_type": "code",
   "execution_count": null,
   "metadata": {},
   "outputs": [],
   "source": [
    "# Plot one period of sin wave.\n",
    "plt.plot(x[0:int(sample_rate/frequency1)])"
   ]
  },
  {
   "cell_type": "code",
   "execution_count": null,
   "metadata": {},
   "outputs": [],
   "source": [
    "# Compute the 1D DFT\n",
    "f = np.fft.fft(x)\n",
    "\n",
    "# Plot the 1D DFT\n",
    "plt.plot(abs(f))"
   ]
  },
  {
   "cell_type": "code",
   "execution_count": null,
   "metadata": {},
   "outputs": [],
   "source": [
    "# Now with correctly labeled frequency axis.\n",
    "f_axis = np.linspace(0, sample_rate, length, endpoint=False)\n",
    "plt.plot(f_axis, abs(f))"
   ]
  },
  {
   "cell_type": "code",
   "execution_count": null,
   "metadata": {},
   "outputs": [],
   "source": [
    "# Compute spectrogram.\n",
    "spectrogram, freqs, bins, im = plt.specgram(x, NFFT=1024, Fs=sample_rate, noverlap=0)"
   ]
  },
  {
   "cell_type": "code",
   "execution_count": null,
   "metadata": {},
   "outputs": [],
   "source": [
    "type(spectrogram)\n",
    "print(spectrogram.ndim)\n",
    "print(spectrogram.shape)"
   ]
  },
  {
   "cell_type": "code",
   "execution_count": null,
   "metadata": {},
   "outputs": [],
   "source": [
    "# Display spectrogram as a grayscale image.\n",
    "plt.imshow(spectrogram,cmap='gray')"
   ]
  },
  {
   "cell_type": "code",
   "execution_count": null,
   "metadata": {},
   "outputs": [],
   "source": [
    "# Flip it vertically.\n",
    "spectrogram = np.flip(spectrogram, 0)\n",
    "plt.imshow(spectrogram,cmap='gray')\n"
   ]
  },
  {
   "cell_type": "code",
   "execution_count": null,
   "metadata": {},
   "outputs": [],
   "source": [
    "# Compute log_10 of spectrogram.\n",
    "spectrogram_log = np.log10( spectrogram )\n",
    "plt.imshow(spectrogram_log,cmap='gray')"
   ]
  },
  {
   "cell_type": "code",
   "execution_count": null,
   "metadata": {},
   "outputs": [],
   "source": [
    "plt.imsave('one_sine_spect.png', spectrogram_log, cmap='gray')"
   ]
  },
  {
   "cell_type": "code",
   "execution_count": null,
   "metadata": {},
   "outputs": [],
   "source": [
    "# Normalize so values range from 0 to 1.\n",
    "print(np.amin(spectrogram_log))\n",
    "print(np.amax(spectrogram_log))\n",
    "spectrogram_log = (spectrogram_log - np.amin(spectrogram_log)) / (np.amax(spectrogram_log) - np.amin(spectrogram_log))\n",
    "print(np.amin(spectrogram_log))\n",
    "print(np.amax(spectrogram_log))"
   ]
  },
  {
   "cell_type": "code",
   "execution_count": null,
   "metadata": {},
   "outputs": [],
   "source": [
    "plt.imsave('one_sine_spect.png', spectrogram_log, cmap='gray')"
   ]
  },
  {
   "cell_type": "code",
   "execution_count": null,
   "metadata": {},
   "outputs": [],
   "source": []
  }
 ],
 "metadata": {
  "kernelspec": {
   "display_name": "Python 3",
   "language": "python",
   "name": "python3"
  },
  "language_info": {
   "codemirror_mode": {
    "name": "ipython",
    "version": 3
   },
   "file_extension": ".py",
   "mimetype": "text/x-python",
   "name": "python",
   "nbconvert_exporter": "python",
   "pygments_lexer": "ipython3",
   "version": "3.8.5"
  }
 },
 "nbformat": 4,
 "nbformat_minor": 4
}
